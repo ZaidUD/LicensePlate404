{
  "cells": [
    {
      "cell_type": "code",
      "execution_count": 1,
      "metadata": {},
      "outputs": [
        {
          "name": "stderr",
          "output_type": "stream",
          "text": [
            "2022-05-10 11:42:35.312231: W tensorflow/stream_executor/platform/default/dso_loader.cc:64] Could not load dynamic library 'libcudart.so.11.0'; dlerror: libcudart.so.11.0: cannot open shared object file: No such file or directory\n",
            "2022-05-10 11:42:35.312253: I tensorflow/stream_executor/cuda/cudart_stub.cc:29] Ignore above cudart dlerror if you do not have a GPU set up on your machine.\n"
          ]
        }
      ],
      "source": [
        "import torch\n",
        "from torchvision import datasets\n",
        "from torchvision.transforms import ToTensor\n",
        "from torch.utils.data import TensorDataset, DataLoader\n",
        "import torch.nn as nn\n",
        "from torch import optim\n",
        "from torch.autograd import Variable\n",
        "import matplotlib.pyplot as plt\n",
        "import torchvision.transforms as transforms\n",
        "import glob\n",
        "from keras.preprocessing.image import load_img\n",
        "import os\n",
        "from keras.preprocessing.image import img_to_array\n",
        "import numpy as np\n",
        "from sklearn.preprocessing import LabelEncoder\n",
        "from tensorflow.keras.utils import to_categorical\n",
        "from torchsummary import summary"
      ]
    },
    {
      "cell_type": "code",
      "execution_count": 42,
      "metadata": {},
      "outputs": [
        {
          "data": {
            "text/plain": [
              "device(type='cuda')"
            ]
          },
          "execution_count": 42,
          "metadata": {},
          "output_type": "execute_result"
        }
      ],
      "source": [
        "# Device configuration\n",
        "device = torch.device('cuda' if torch.cuda.is_available() else 'cpu')\n",
        "device"
      ]
    },
    {
      "cell_type": "code",
      "execution_count": 17,
      "metadata": {},
      "outputs": [],
      "source": [
        "dataset_paths = glob.glob(\"dataset_characters/**/*.jpg\")\n",
        "\n",
        "X = []\n",
        "labels = []\n",
        "\n",
        "for image_path in dataset_paths:\n",
        "  label = image_path.split(os.path.sep)[-2]\n",
        "  image = load_img(image_path,target_size=(80,80))\n",
        "  image = img_to_array(image)\n",
        "\n",
        "  X.append(image)\n",
        "  labels.append(label)\n",
        "\n",
        "X = np.array(X,dtype=\"float16\")\n",
        "labels = np.array(labels)\n",
        "\n",
        "print(\"[INFO] Find {:d} images with {:d} classes\".format(len(X),len(set(labels))))\n",
        "\n",
        "X = X[:,:,:,0]/255\n",
        "X = np.expand_dims(X, axis=1)\n",
        "print(X.shape)\n",
        "\n",
        "lb = LabelEncoder()\n",
        "lb.fit(labels)\n",
        "labels = lb.transform(labels)\n",
        "auxLabels = np.copy(labels)\n",
        "labels = to_categorical(labels)\n",
        "\n",
        "import pickle \n",
        "\n",
        "with open('./labelEncoder.obj', 'wb') as file_lb:\n",
        "    pickle.dump(lb, file_lb)"
      ]
    },
    {
      "cell_type": "code",
      "execution_count": 8,
      "metadata": {},
      "outputs": [],
      "source": [
        "tensor_x = torch.Tensor(X) \n",
        "tensor_y = torch.Tensor(labels)\n",
        "\n",
        "trainDataSet = torch.utils.data.TensorDataset(tensor_x, tensor_y)\n",
        "train_loader = torch.utils.data.DataLoader(trainDataSet, batch_size=64, shuffle=True)"
      ]
    },
    {
      "cell_type": "code",
      "execution_count": 48,
      "metadata": {},
      "outputs": [
        {
          "name": "stdout",
          "output_type": "stream",
          "text": [
            "----------------------------------------------------------------\n",
            "        Layer (type)               Output Shape         Param #\n",
            "================================================================\n",
            "            Conv2d-1           [-1, 16, 80, 80]             416\n",
            "              ReLU-2           [-1, 16, 80, 80]               0\n",
            "         MaxPool2d-3           [-1, 16, 40, 40]               0\n",
            "            Conv2d-4           [-1, 32, 40, 40]          12,832\n",
            "              ReLU-5           [-1, 32, 40, 40]               0\n",
            "         MaxPool2d-6           [-1, 32, 20, 20]               0\n",
            "           Flatten-7                [-1, 12800]               0\n",
            "            Linear-8                   [-1, 36]         460,836\n",
            "           Softmax-9                   [-1, 36]               0\n",
            "================================================================\n",
            "Total params: 474,084\n",
            "Trainable params: 474,084\n",
            "Non-trainable params: 0\n",
            "----------------------------------------------------------------\n",
            "Input size (MB): 0.02\n",
            "Forward/backward pass size (MB): 2.73\n",
            "Params size (MB): 1.81\n",
            "Estimated Total Size (MB): 4.57\n",
            "----------------------------------------------------------------\n"
          ]
        }
      ],
      "source": [
        "class CNN(nn.Module):\n",
        "    def __init__(self):\n",
        "        super().__init__()\n",
        "\n",
        "        ### Convolutional section\n",
        "        self.le_cnn = nn.Sequential(\n",
        "            nn.Conv2d(1, 16, 5, stride=1, padding=2),\n",
        "            nn.ReLU(),\n",
        "            nn.MaxPool2d(kernel_size=2), \n",
        "\n",
        "            nn.Conv2d(16, 32, 5, 1, 2),     \n",
        "            nn.ReLU(),                      \n",
        "            nn.MaxPool2d(kernel_size=2),\n",
        "\n",
        "            nn.Flatten(),\n",
        "\n",
        "            nn.Linear(12800, 36),\n",
        "\n",
        "            nn.Softmax(0)\n",
        "        )\n",
        "\n",
        "    def forward(self, x):\n",
        "        output = self.le_cnn(x)\n",
        "             \n",
        "        return output\n",
        "\n",
        "cnn = CNN()\n",
        "cnn.to(device)\n",
        "loss_func = nn.MSELoss() \n",
        "optimizer = optim.Adam(cnn.parameters(), lr = 0.01) \n",
        "\n",
        "summary(cnn,(1, 80, 80))"
      ]
    },
    {
      "cell_type": "code",
      "execution_count": 47,
      "metadata": {},
      "outputs": [
        {
          "name": "stdout",
          "output_type": "stream",
          "text": [
            "\t partial train loss (single batch): 0.006061\n",
            "\t partial train loss (single batch): 0.002020\n"
          ]
        },
        {
          "ename": "KeyboardInterrupt",
          "evalue": "",
          "output_type": "error",
          "traceback": [
            "\u001b[0;31m---------------------------------------------------------------------------\u001b[0m",
            "\u001b[0;31mKeyboardInterrupt\u001b[0m                         Traceback (most recent call last)",
            "\u001b[1;32m/home/zaid/Documents/Courses/DigitalImaging/LicensePlate/CleanPublication/Training.ipynb Cell 6'\u001b[0m in \u001b[0;36m<module>\u001b[0;34m\u001b[0m\n\u001b[1;32m     <a href='vscode-notebook-cell:/home/zaid/Documents/Courses/DigitalImaging/LicensePlate/CleanPublication/Training.ipynb#ch0000005?line=22'>23</a>\u001b[0m         \u001b[39mprint\u001b[39m(\u001b[39m'\u001b[39m\u001b[39m\\t\u001b[39;00m\u001b[39m partial train loss (single batch): \u001b[39m\u001b[39m%f\u001b[39;00m\u001b[39m'\u001b[39m \u001b[39m%\u001b[39m (loss\u001b[39m.\u001b[39mdata))        \n\u001b[1;32m     <a href='vscode-notebook-cell:/home/zaid/Documents/Courses/DigitalImaging/LicensePlate/CleanPublication/Training.ipynb#ch0000005?line=24'>25</a>\u001b[0m         torch\u001b[39m.\u001b[39msave(cnn\u001b[39m.\u001b[39mstate_dict(), \u001b[39m'\u001b[39m\u001b[39m./DigitClassifier\u001b[39m\u001b[39m{0}\u001b[39;00m\u001b[39m'\u001b[39m\u001b[39m.\u001b[39mformat(loss\u001b[39m.\u001b[39mdata))\n\u001b[0;32m---> <a href='vscode-notebook-cell:/home/zaid/Documents/Courses/DigitalImaging/LicensePlate/CleanPublication/Training.ipynb#ch0000005?line=26'>27</a>\u001b[0m train(num_epochs, cnn)\n",
            "\u001b[1;32m/home/zaid/Documents/Courses/DigitalImaging/LicensePlate/CleanPublication/Training.ipynb Cell 6'\u001b[0m in \u001b[0;36mtrain\u001b[0;34m(num_epochs, cnn)\u001b[0m\n\u001b[1;32m      <a href='vscode-notebook-cell:/home/zaid/Documents/Courses/DigitalImaging/LicensePlate/CleanPublication/Training.ipynb#ch0000005?line=4'>5</a>\u001b[0m \u001b[39m# Train the model        \u001b[39;00m\n\u001b[1;32m      <a href='vscode-notebook-cell:/home/zaid/Documents/Courses/DigitalImaging/LicensePlate/CleanPublication/Training.ipynb#ch0000005?line=5'>6</a>\u001b[0m \u001b[39mfor\u001b[39;00m epoch \u001b[39min\u001b[39;00m \u001b[39mrange\u001b[39m(num_epochs):\n\u001b[0;32m----> <a href='vscode-notebook-cell:/home/zaid/Documents/Courses/DigitalImaging/LicensePlate/CleanPublication/Training.ipynb#ch0000005?line=6'>7</a>\u001b[0m     \u001b[39mfor\u001b[39;00m image_batch, label \u001b[39min\u001b[39;00m train_loader: \u001b[39m# with \"_\" we just ignore the labels (the second element of the dataloader tuple)\u001b[39;00m\n\u001b[1;32m      <a href='vscode-notebook-cell:/home/zaid/Documents/Courses/DigitalImaging/LicensePlate/CleanPublication/Training.ipynb#ch0000005?line=7'>8</a>\u001b[0m         \u001b[39m# Move tensor to the proper device\u001b[39;00m\n\u001b[1;32m      <a href='vscode-notebook-cell:/home/zaid/Documents/Courses/DigitalImaging/LicensePlate/CleanPublication/Training.ipynb#ch0000005?line=8'>9</a>\u001b[0m         image_batch \u001b[39m=\u001b[39m image_batch\u001b[39m.\u001b[39mto(device, dtype\u001b[39m=\u001b[39mtorch\u001b[39m.\u001b[39mfloat)\n\u001b[1;32m     <a href='vscode-notebook-cell:/home/zaid/Documents/Courses/DigitalImaging/LicensePlate/CleanPublication/Training.ipynb#ch0000005?line=9'>10</a>\u001b[0m         label \u001b[39m=\u001b[39m label\u001b[39m.\u001b[39mto(device, dtype\u001b[39m=\u001b[39mtorch\u001b[39m.\u001b[39mfloat)\n",
            "File \u001b[0;32m/usr/local/lib/python3.8/dist-packages/torch/utils/data/dataloader.py:530\u001b[0m, in \u001b[0;36m_BaseDataLoaderIter.__next__\u001b[0;34m(self)\u001b[0m\n\u001b[1;32m    <a href='file:///usr/local/lib/python3.8/dist-packages/torch/utils/data/dataloader.py?line=527'>528</a>\u001b[0m \u001b[39mif\u001b[39;00m \u001b[39mself\u001b[39m\u001b[39m.\u001b[39m_sampler_iter \u001b[39mis\u001b[39;00m \u001b[39mNone\u001b[39;00m:\n\u001b[1;32m    <a href='file:///usr/local/lib/python3.8/dist-packages/torch/utils/data/dataloader.py?line=528'>529</a>\u001b[0m     \u001b[39mself\u001b[39m\u001b[39m.\u001b[39m_reset()\n\u001b[0;32m--> <a href='file:///usr/local/lib/python3.8/dist-packages/torch/utils/data/dataloader.py?line=529'>530</a>\u001b[0m data \u001b[39m=\u001b[39m \u001b[39mself\u001b[39;49m\u001b[39m.\u001b[39;49m_next_data()\n\u001b[1;32m    <a href='file:///usr/local/lib/python3.8/dist-packages/torch/utils/data/dataloader.py?line=530'>531</a>\u001b[0m \u001b[39mself\u001b[39m\u001b[39m.\u001b[39m_num_yielded \u001b[39m+\u001b[39m\u001b[39m=\u001b[39m \u001b[39m1\u001b[39m\n\u001b[1;32m    <a href='file:///usr/local/lib/python3.8/dist-packages/torch/utils/data/dataloader.py?line=531'>532</a>\u001b[0m \u001b[39mif\u001b[39;00m \u001b[39mself\u001b[39m\u001b[39m.\u001b[39m_dataset_kind \u001b[39m==\u001b[39m _DatasetKind\u001b[39m.\u001b[39mIterable \u001b[39mand\u001b[39;00m \\\n\u001b[1;32m    <a href='file:///usr/local/lib/python3.8/dist-packages/torch/utils/data/dataloader.py?line=532'>533</a>\u001b[0m         \u001b[39mself\u001b[39m\u001b[39m.\u001b[39m_IterableDataset_len_called \u001b[39mis\u001b[39;00m \u001b[39mnot\u001b[39;00m \u001b[39mNone\u001b[39;00m \u001b[39mand\u001b[39;00m \\\n\u001b[1;32m    <a href='file:///usr/local/lib/python3.8/dist-packages/torch/utils/data/dataloader.py?line=533'>534</a>\u001b[0m         \u001b[39mself\u001b[39m\u001b[39m.\u001b[39m_num_yielded \u001b[39m>\u001b[39m \u001b[39mself\u001b[39m\u001b[39m.\u001b[39m_IterableDataset_len_called:\n",
            "File \u001b[0;32m/usr/local/lib/python3.8/dist-packages/torch/utils/data/dataloader.py:570\u001b[0m, in \u001b[0;36m_SingleProcessDataLoaderIter._next_data\u001b[0;34m(self)\u001b[0m\n\u001b[1;32m    <a href='file:///usr/local/lib/python3.8/dist-packages/torch/utils/data/dataloader.py?line=567'>568</a>\u001b[0m \u001b[39mdef\u001b[39;00m \u001b[39m_next_data\u001b[39m(\u001b[39mself\u001b[39m):\n\u001b[1;32m    <a href='file:///usr/local/lib/python3.8/dist-packages/torch/utils/data/dataloader.py?line=568'>569</a>\u001b[0m     index \u001b[39m=\u001b[39m \u001b[39mself\u001b[39m\u001b[39m.\u001b[39m_next_index()  \u001b[39m# may raise StopIteration\u001b[39;00m\n\u001b[0;32m--> <a href='file:///usr/local/lib/python3.8/dist-packages/torch/utils/data/dataloader.py?line=569'>570</a>\u001b[0m     data \u001b[39m=\u001b[39m \u001b[39mself\u001b[39;49m\u001b[39m.\u001b[39;49m_dataset_fetcher\u001b[39m.\u001b[39;49mfetch(index)  \u001b[39m# may raise StopIteration\u001b[39;00m\n\u001b[1;32m    <a href='file:///usr/local/lib/python3.8/dist-packages/torch/utils/data/dataloader.py?line=570'>571</a>\u001b[0m     \u001b[39mif\u001b[39;00m \u001b[39mself\u001b[39m\u001b[39m.\u001b[39m_pin_memory:\n\u001b[1;32m    <a href='file:///usr/local/lib/python3.8/dist-packages/torch/utils/data/dataloader.py?line=571'>572</a>\u001b[0m         data \u001b[39m=\u001b[39m _utils\u001b[39m.\u001b[39mpin_memory\u001b[39m.\u001b[39mpin_memory(data)\n",
            "File \u001b[0;32m/usr/local/lib/python3.8/dist-packages/torch/utils/data/_utils/fetch.py:52\u001b[0m, in \u001b[0;36m_MapDatasetFetcher.fetch\u001b[0;34m(self, possibly_batched_index)\u001b[0m\n\u001b[1;32m     <a href='file:///usr/local/lib/python3.8/dist-packages/torch/utils/data/_utils/fetch.py?line=49'>50</a>\u001b[0m \u001b[39melse\u001b[39;00m:\n\u001b[1;32m     <a href='file:///usr/local/lib/python3.8/dist-packages/torch/utils/data/_utils/fetch.py?line=50'>51</a>\u001b[0m     data \u001b[39m=\u001b[39m \u001b[39mself\u001b[39m\u001b[39m.\u001b[39mdataset[possibly_batched_index]\n\u001b[0;32m---> <a href='file:///usr/local/lib/python3.8/dist-packages/torch/utils/data/_utils/fetch.py?line=51'>52</a>\u001b[0m \u001b[39mreturn\u001b[39;00m \u001b[39mself\u001b[39;49m\u001b[39m.\u001b[39;49mcollate_fn(data)\n",
            "File \u001b[0;32m/usr/local/lib/python3.8/dist-packages/torch/utils/data/_utils/collate.py:172\u001b[0m, in \u001b[0;36mdefault_collate\u001b[0;34m(batch)\u001b[0m\n\u001b[1;32m    <a href='file:///usr/local/lib/python3.8/dist-packages/torch/utils/data/_utils/collate.py?line=168'>169</a>\u001b[0m transposed \u001b[39m=\u001b[39m \u001b[39mlist\u001b[39m(\u001b[39mzip\u001b[39m(\u001b[39m*\u001b[39mbatch))  \u001b[39m# It may be accessed twice, so we use a list.\u001b[39;00m\n\u001b[1;32m    <a href='file:///usr/local/lib/python3.8/dist-packages/torch/utils/data/_utils/collate.py?line=170'>171</a>\u001b[0m \u001b[39mif\u001b[39;00m \u001b[39misinstance\u001b[39m(elem, \u001b[39mtuple\u001b[39m):\n\u001b[0;32m--> <a href='file:///usr/local/lib/python3.8/dist-packages/torch/utils/data/_utils/collate.py?line=171'>172</a>\u001b[0m     \u001b[39mreturn\u001b[39;00m [default_collate(samples) \u001b[39mfor\u001b[39;00m samples \u001b[39min\u001b[39;00m transposed]  \u001b[39m# Backwards compatibility.\u001b[39;00m\n\u001b[1;32m    <a href='file:///usr/local/lib/python3.8/dist-packages/torch/utils/data/_utils/collate.py?line=172'>173</a>\u001b[0m \u001b[39melse\u001b[39;00m:\n\u001b[1;32m    <a href='file:///usr/local/lib/python3.8/dist-packages/torch/utils/data/_utils/collate.py?line=173'>174</a>\u001b[0m     \u001b[39mtry\u001b[39;00m:\n",
            "File \u001b[0;32m/usr/local/lib/python3.8/dist-packages/torch/utils/data/_utils/collate.py:172\u001b[0m, in \u001b[0;36m<listcomp>\u001b[0;34m(.0)\u001b[0m\n\u001b[1;32m    <a href='file:///usr/local/lib/python3.8/dist-packages/torch/utils/data/_utils/collate.py?line=168'>169</a>\u001b[0m transposed \u001b[39m=\u001b[39m \u001b[39mlist\u001b[39m(\u001b[39mzip\u001b[39m(\u001b[39m*\u001b[39mbatch))  \u001b[39m# It may be accessed twice, so we use a list.\u001b[39;00m\n\u001b[1;32m    <a href='file:///usr/local/lib/python3.8/dist-packages/torch/utils/data/_utils/collate.py?line=170'>171</a>\u001b[0m \u001b[39mif\u001b[39;00m \u001b[39misinstance\u001b[39m(elem, \u001b[39mtuple\u001b[39m):\n\u001b[0;32m--> <a href='file:///usr/local/lib/python3.8/dist-packages/torch/utils/data/_utils/collate.py?line=171'>172</a>\u001b[0m     \u001b[39mreturn\u001b[39;00m [default_collate(samples) \u001b[39mfor\u001b[39;00m samples \u001b[39min\u001b[39;00m transposed]  \u001b[39m# Backwards compatibility.\u001b[39;00m\n\u001b[1;32m    <a href='file:///usr/local/lib/python3.8/dist-packages/torch/utils/data/_utils/collate.py?line=172'>173</a>\u001b[0m \u001b[39melse\u001b[39;00m:\n\u001b[1;32m    <a href='file:///usr/local/lib/python3.8/dist-packages/torch/utils/data/_utils/collate.py?line=173'>174</a>\u001b[0m     \u001b[39mtry\u001b[39;00m:\n",
            "File \u001b[0;32m/usr/local/lib/python3.8/dist-packages/torch/utils/data/_utils/collate.py:138\u001b[0m, in \u001b[0;36mdefault_collate\u001b[0;34m(batch)\u001b[0m\n\u001b[1;32m    <a href='file:///usr/local/lib/python3.8/dist-packages/torch/utils/data/_utils/collate.py?line=135'>136</a>\u001b[0m         storage \u001b[39m=\u001b[39m elem\u001b[39m.\u001b[39mstorage()\u001b[39m.\u001b[39m_new_shared(numel)\n\u001b[1;32m    <a href='file:///usr/local/lib/python3.8/dist-packages/torch/utils/data/_utils/collate.py?line=136'>137</a>\u001b[0m         out \u001b[39m=\u001b[39m elem\u001b[39m.\u001b[39mnew(storage)\u001b[39m.\u001b[39mresize_(\u001b[39mlen\u001b[39m(batch), \u001b[39m*\u001b[39m\u001b[39mlist\u001b[39m(elem\u001b[39m.\u001b[39msize()))\n\u001b[0;32m--> <a href='file:///usr/local/lib/python3.8/dist-packages/torch/utils/data/_utils/collate.py?line=137'>138</a>\u001b[0m     \u001b[39mreturn\u001b[39;00m torch\u001b[39m.\u001b[39;49mstack(batch, \u001b[39m0\u001b[39;49m, out\u001b[39m=\u001b[39;49mout)\n\u001b[1;32m    <a href='file:///usr/local/lib/python3.8/dist-packages/torch/utils/data/_utils/collate.py?line=138'>139</a>\u001b[0m \u001b[39melif\u001b[39;00m elem_type\u001b[39m.\u001b[39m\u001b[39m__module__\u001b[39m \u001b[39m==\u001b[39m \u001b[39m'\u001b[39m\u001b[39mnumpy\u001b[39m\u001b[39m'\u001b[39m \u001b[39mand\u001b[39;00m elem_type\u001b[39m.\u001b[39m\u001b[39m__name__\u001b[39m \u001b[39m!=\u001b[39m \u001b[39m'\u001b[39m\u001b[39mstr_\u001b[39m\u001b[39m'\u001b[39m \\\n\u001b[1;32m    <a href='file:///usr/local/lib/python3.8/dist-packages/torch/utils/data/_utils/collate.py?line=139'>140</a>\u001b[0m         \u001b[39mand\u001b[39;00m elem_type\u001b[39m.\u001b[39m\u001b[39m__name__\u001b[39m \u001b[39m!=\u001b[39m \u001b[39m'\u001b[39m\u001b[39mstring_\u001b[39m\u001b[39m'\u001b[39m:\n\u001b[1;32m    <a href='file:///usr/local/lib/python3.8/dist-packages/torch/utils/data/_utils/collate.py?line=140'>141</a>\u001b[0m     \u001b[39mif\u001b[39;00m elem_type\u001b[39m.\u001b[39m\u001b[39m__name__\u001b[39m \u001b[39m==\u001b[39m \u001b[39m'\u001b[39m\u001b[39mndarray\u001b[39m\u001b[39m'\u001b[39m \u001b[39mor\u001b[39;00m elem_type\u001b[39m.\u001b[39m\u001b[39m__name__\u001b[39m \u001b[39m==\u001b[39m \u001b[39m'\u001b[39m\u001b[39mmemmap\u001b[39m\u001b[39m'\u001b[39m:\n\u001b[1;32m    <a href='file:///usr/local/lib/python3.8/dist-packages/torch/utils/data/_utils/collate.py?line=141'>142</a>\u001b[0m         \u001b[39m# array of string classes and object\u001b[39;00m\n",
            "\u001b[0;31mKeyboardInterrupt\u001b[0m: "
          ]
        }
      ],
      "source": [
        "num_epochs = 100\n",
        "def train(num_epochs, cnn):\n",
        "    cnn.train()\n",
        "        \n",
        "    # Train the model        \n",
        "    for epoch in range(num_epochs):\n",
        "        for image_batch, label in train_loader: # with \"_\" we just ignore the labels (the second element of the dataloader tuple)\n",
        "            # Move tensor to the proper device\n",
        "            image_batch = image_batch.to(device, dtype=torch.float)\n",
        "            label = label.to(device, dtype=torch.float)\n",
        "\n",
        "            batchPreds = cnn(image_batch)\n",
        "\n",
        "            # Evaluate loss\n",
        "            loss = loss_func(batchPreds, label)\n",
        "\n",
        "            # Backward pass\n",
        "            optimizer.zero_grad()\n",
        "            loss.backward()\n",
        "            optimizer.step()\n",
        "\n",
        "            # Print batch loss\n",
        "        print('\\t partial train loss (single batch): %f' % (loss.data))        \n",
        "    \n",
        "        torch.save(cnn.state_dict(), './DigitClassifier{0}'.format(loss.data))\n",
        "\n",
        "train(num_epochs, cnn)"
      ]
    },
    {
      "cell_type": "code",
      "execution_count": 37,
      "metadata": {},
      "outputs": [
        {
          "name": "stdout",
          "output_type": "stream",
          "text": [
            "Test Accuracy of the model on the 37623 test images: 0.9125269117295272\n"
          ]
        }
      ],
      "source": [
        "def test():\n",
        "    # Test the model\n",
        "    cnn.eval()\n",
        "    with torch.no_grad():\n",
        "        correct = 0\n",
        "        total = 0\n",
        "        for image_batch, label in train_loader: \n",
        "            image_batch = image_batch.to(device, dtype=torch.float)\n",
        "            label = label.to(device, dtype=torch.float)\n",
        "            \n",
        "            encoded_data = cnn(image_batch)\n",
        "\n",
        "            for indx in range(len(encoded_data)):\n",
        "                predicted = np.argmax(encoded_data[indx].cpu().squeeze().numpy())\n",
        "                orig = np.argmax(label[indx].cpu().squeeze().numpy())\n",
        "                if predicted == orig:\n",
        "                    correct += 1\n",
        "                total += 1\n",
        "    accuracy = correct/total\n",
        "\n",
        "    print('Test Accuracy of the model on the {1} test images: {0}'.format(accuracy, total))\n",
        "    \n",
        "test()"
      ]
    },
    {
      "cell_type": "code",
      "execution_count": 13,
      "metadata": {},
      "outputs": [],
      "source": [
        "def classifyDigit(observation):\n",
        "    obs = torch.from_numpy(observation)\n",
        "    obs = obs.to(device, dtype=torch.float)\n",
        "\n",
        "    cnn.eval()\n",
        "    with torch.no_grad():\n",
        "        predLabel  = cnn(obs)\n",
        "    predLabel = np.argmax(predLabel.cpu().numpy(),axis=1)\n",
        "\n",
        "    return lb.inverse_transform(predLabel)"
      ]
    },
    {
      "cell_type": "code",
      "execution_count": 26,
      "metadata": {},
      "outputs": [
        {
          "name": "stdout",
          "output_type": "stream",
          "text": [
            "(1, 80, 80)\n"
          ]
        },
        {
          "data": {
            "image/png": "[encoded data removed]",
            "text/plain": [
              "<Figure size 432x288 with 2 Axes>"
            ]
          },
          "metadata": {
            "needs_background": "light"
          },
          "output_type": "display_data"
        },
        {
          "data": {
            "image/png": "[encoded data removed]",
            "text/plain": [
              "<Figure size 432x288 with 1 Axes>"
            ]
          },
          "metadata": {
            "needs_background": "light"
          },
          "output_type": "display_data"
        },
        {
          "name": "stderr",
          "output_type": "stream",
          "text": [
            "/usr/local/lib/python3.8/dist-packages/torch/nn/modules/container.py:141: UserWarning: Implicit dimension choice for softmax has been deprecated. Change the call to include dim=X as an argument.\n",
            "  input = module(input)\n"
          ]
        },
        {
          "data": {
            "text/plain": [
              "array(['G', '6'], dtype='<U1')"
            ]
          },
          "execution_count": 26,
          "metadata": {},
          "output_type": "execute_result"
        }
      ],
      "source": [
        "numpyImg = [\n",
        "    trainDataSet[3540][0].unsqueeze(0).to(device, dtype=torch.float).cpu().squeeze().numpy(),\n",
        "    trainDataSet[33948][0].unsqueeze(0).to(device, dtype=torch.float).cpu().squeeze().numpy()\n",
        "]\n",
        "numpyImg = np.expand_dims(np.array(numpyImg),1)\n",
        "\n",
        "print(numpyImg[1].shape)\n",
        "plt.imshow(numpyImg[0,0,...])\n",
        "plt.colorbar()\n",
        "plt.show()\n",
        "plt.imshow(numpyImg[1,0,...])\n",
        "plt.show()\n",
        "\n",
        "classifyDigit(numpyImg)"
      ]
    }
  ],
  "metadata": {
    "accelerator": "GPU",
    "colab": {
      "collapsed_sections": [
        "-Cadyb8NhcMt",
        "A13lzV-6knTo"
      ],
      "name": "class_03_09_2022.ipynb",
      "provenance": []
    },
    "kernelspec": {
      "display_name": "Python 3",
      "name": "python3"
    },
    "language_info": {
      "codemirror_mode": {
        "name": "ipython",
        "version": 3
      },
      "file_extension": ".py",
      "mimetype": "text/x-python",
      "name": "python",
      "nbconvert_exporter": "python",
      "pygments_lexer": "ipython3",
      "version": "3.8.10"
    }
  },
  "nbformat": 4,
  "nbformat_minor": 0
}
